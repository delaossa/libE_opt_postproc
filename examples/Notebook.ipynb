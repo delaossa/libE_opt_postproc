{
 "cells": [
  {
   "cell_type": "markdown",
   "id": "03ab810d-b87b-4524-8747-1b6061e6a333",
   "metadata": {},
   "source": [
    "# Notebook example"
   ]
  },
  {
   "cell_type": "markdown",
   "id": "63f1070d-b8da-4dbe-b4bc-da7e10f6e004",
   "metadata": {},
   "source": [
    "This notebook analyses and visualizes the results of a `libE_opt` optimization."
   ]
  },
  {
   "cell_type": "markdown",
   "id": "c96aac2d-40fe-4561-a5a0-befcaa513227",
   "metadata": {
    "tags": []
   },
   "source": [
    "## Initialize the class for post processing and loads history data"
   ]
  },
  {
   "cell_type": "code",
   "execution_count": null,
   "id": "6106b783-3797-4523-a47f-68bca9a71075",
   "metadata": {},
   "outputs": [],
   "source": [
    "import numpy as np\n",
    "from libe_opt_postproc import PostProcOptimization"
   ]
  },
  {
   "cell_type": "code",
   "execution_count": null,
   "id": "f4a5b6c5-f953-406b-b7ed-aaa6bbf3bc5f",
   "metadata": {},
   "outputs": [],
   "source": [
    "# Modify the path below, to point to your optimization\n",
    "# pp = PostProcOptimization('/beegfs/desy/group/mpa/mpa1/delaossa/wake_t/lux_opt')\n",
    "pp = PostProcOptimization('/beegfs/desy/group/mpa/mpa1/delaossa/wake_t/lux_opt_prof_fg_v6')"
   ]
  },
  {
   "cell_type": "markdown",
   "id": "4a30ab5a-626d-4cca-a66c-180c4af4590a",
   "metadata": {},
   "source": [
    "When only the path is passed to PostProcOptimization, it would try to find out the specific variables of your optimization by searching the `varying_parameters.py` file.\n",
    "If not present, the user would need to tell manually which are those, e.g.: `pp = PostProcOptimization('path', varpars=['x0', 'x1', ...])`"
   ]
  },
  {
   "cell_type": "markdown",
   "id": "5dbcad1d-40ee-4d97-b1a1-d6b08bb6e740",
   "metadata": {
    "tags": []
   },
   "source": [
    "## Plotting optimization run versus time"
   ]
  },
  {
   "cell_type": "code",
   "execution_count": null,
   "id": "23b13f05-0d8b-4caf-b4f1-1b8476c7fdbb",
   "metadata": {},
   "outputs": [],
   "source": [
    "pp.plot_optimization()\n",
    "t0 = np.linspace(0, pp.get_df()['returned_time'].max(), 200 )\n",
    "pp.get_trace(plot=True, t_array=t0);"
   ]
  },
  {
   "cell_type": "code",
   "execution_count": null,
   "id": "ad99d298-134f-412e-95d1-6e6fa0fbb60d",
   "metadata": {},
   "outputs": [],
   "source": [
    "pp.plot_worker_timeline()"
   ]
  },
  {
   "cell_type": "markdown",
   "id": "ecbfeaa0-791d-4da0-8ed2-30ea5727b8a2",
   "metadata": {},
   "source": [
    "## Plotting history file"
   ]
  },
  {
   "cell_type": "code",
   "execution_count": null,
   "id": "9db1212d-c091-4e53-aa4b-34563b5b3c52",
   "metadata": {
    "tags": []
   },
   "outputs": [],
   "source": [
    "# with no arguments, `plot_history()` will print the score function plus the varying parameters\n",
    "pp.plot_history()"
   ]
  },
  {
   "cell_type": "code",
   "execution_count": null,
   "id": "d4e35cec-8d45-4d75-a99c-c64c3e9bf74c",
   "metadata": {},
   "outputs": [],
   "source": [
    "# highlight points according to a selection criteria\n",
    "pp.plot_history(select={'f': [None, -15]})"
   ]
  },
  {
   "cell_type": "code",
   "execution_count": null,
   "id": "b655833e-1d1c-46cd-8f84-aa6bfbb40b28",
   "metadata": {},
   "outputs": [],
   "source": [
    "# sort simulations\n",
    "pp.plot_history(select={'f': [None, -15]}, sort={'f': False})"
   ]
  },
  {
   "cell_type": "code",
   "execution_count": null,
   "id": "25568440-c0a2-4004-bc47-54becbec21c7",
   "metadata": {
    "tags": []
   },
   "outputs": [],
   "source": [
    "# manually select the parameters to show\n",
    "pp.plot_history(parnames=['f', 'beam_i0', 'beam_i1', 'med', 'q'], select={'f': [None, -15]})"
   ]
  },
  {
   "cell_type": "code",
   "execution_count": null,
   "id": "e885a1ac-356f-4326-82d4-6a9acfef8e2b",
   "metadata": {},
   "outputs": [],
   "source": [
    "pp.plot_history(parnames=['beam_i1'], xname='beam_i0', select={'f':[None, -15]}, top=5)"
   ]
  },
  {
   "cell_type": "markdown",
   "id": "29454562-005d-41ed-8fd4-4d91c5cbc2cb",
   "metadata": {},
   "source": [
    "## Plotting GP model"
   ]
  },
  {
   "cell_type": "code",
   "execution_count": null,
   "id": "9e520759-8ff1-4ca8-a495-0cc4b226163c",
   "metadata": {},
   "outputs": [],
   "source": [
    "# Use data present in the history file to build a GP model with Ax\n",
    "mm = pp.build_model()"
   ]
  },
  {
   "cell_type": "code",
   "execution_count": null,
   "id": "4abbca3d-503b-4184-a767-fd1ff3d556cc",
   "metadata": {},
   "outputs": [],
   "source": [
    "# Plot the model in the 2D plane specified. By default it takes the two first varying parameters in the list.\n",
    "# One can specify manually by setting the argumens `xname` and `yname` in `plot_model()`\n",
    "# The rest of parameters are fixed to the optimal values.\n",
    "mm.plot_model()"
   ]
  },
  {
   "cell_type": "code",
   "execution_count": null,
   "id": "05b16150-263f-4b91-8266-71be3033ae94",
   "metadata": {},
   "outputs": [],
   "source": [
    "# A different GP model can be fitted targeting a different score function, e.g.\n",
    "mm = pp.build_model(objname='mad_rel', minimize=True)"
   ]
  },
  {
   "cell_type": "code",
   "execution_count": null,
   "id": "9d7a8a19-dd3a-4b64-821e-81606dca6581",
   "metadata": {},
   "outputs": [],
   "source": [
    "mm.plot_model()"
   ]
  },
  {
   "cell_type": "code",
   "execution_count": null,
   "id": "8ce29ddb-c3c1-43c8-9fe2-988f4b19748a",
   "metadata": {},
   "outputs": [],
   "source": []
  }
 ],
 "metadata": {
  "kernelspec": {
   "display_name": "Python (wake_t)",
   "language": "python",
   "name": "wake_t"
  },
  "language_info": {
   "codemirror_mode": {
    "name": "ipython",
    "version": 3
   },
   "file_extension": ".py",
   "mimetype": "text/x-python",
   "name": "python",
   "nbconvert_exporter": "python",
   "pygments_lexer": "ipython3",
   "version": "3.8.12"
  }
 },
 "nbformat": 4,
 "nbformat_minor": 5
}
