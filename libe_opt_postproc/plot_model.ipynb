{
 "cells": [
  {
   "cell_type": "code",
   "execution_count": null,
   "id": "90c9cdc8-a9f7-4aa4-a629-9a5243ad4a0d",
   "metadata": {},
   "outputs": [],
   "source": [
    "from libe_opt_postproc.post_processing import PostProcOptimization"
   ]
  },
  {
   "cell_type": "code",
   "execution_count": null,
   "id": "6baa9c90-5b4f-48dd-b9b1-3de582312b64",
   "metadata": {},
   "outputs": [],
   "source": [
    "path = '/beegfs/desy/group/mpa/mpa1/delaossa/WAKE-T/lux_opt'\n",
    "ppo = PostProcOptimization(path)"
   ]
  },
  {
   "cell_type": "code",
   "execution_count": null,
   "id": "cd93b1d8-4d7d-499e-82e0-0d07cef9b95d",
   "metadata": {},
   "outputs": [],
   "source": [
    "ppo.build_model_ax()"
   ]
  },
  {
   "cell_type": "code",
   "execution_count": null,
   "id": "6d9b90d3-ba41-4fa6-85e9-d91741eb7280",
   "metadata": {},
   "outputs": [],
   "source": [
    "ppo.plot_model()"
   ]
  }
 ],
 "metadata": {
  "kernelspec": {
   "display_name": "Python (wake_t)",
   "language": "python",
   "name": "wake_t"
  },
  "language_info": {
   "codemirror_mode": {
    "name": "ipython",
    "version": 3
   },
   "file_extension": ".py",
   "mimetype": "text/x-python",
   "name": "python",
   "nbconvert_exporter": "python",
   "pygments_lexer": "ipython3",
   "version": "3.8.12"
  }
 },
 "nbformat": 4,
 "nbformat_minor": 5
}
